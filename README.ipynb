{
 "cells": [
  {
   "cell_type": "markdown",
   "metadata": {},
   "source": [
    "# DLP\n",
    "Implementation of Distributed Linear Program in Multi-agent adversarial game\n",
    "\n",
    "Instructions on the setup is available in the [**Wiki of this repository**](https://github.com/mzahana/dlp/wiki)\n",
    "\n",
    "[![IMAGE ALT TEXT HERE](http://img.youtube.com/vi/aQWNBxXC71o/0.jpg)](http://www.youtube.com/watch?v=aQWNBxXC71o)"
   ]
  }
 ],

 "metadata": {
  "kernelspec": {
   "display_name": "Bash",
   "language": "bash",
   "name": "bash"
  },
  "language_info": {
   "codemirror_mode": "shell",
   "file_extension": ".sh",
   "mimetype": "text/x-sh",
   "name": "bash"
  }
 },
 "nbformat": 4,
 "nbformat_minor": 2
}
